{
 "cells": [
  {
   "cell_type": "code",
   "execution_count": 50,
   "metadata": {},
   "outputs": [],
   "source": [
    "class ExamException(Exception):\n",
    "    pass\n",
    "\n",
    "\n",
    "class MovingAverage:\n",
    "\n",
    "    def __init__(this, window_size):\n",
    "        \n",
    "        if ((type(window_size) == int) or (type(window_size) == float)):\n",
    "            if (window_size<=0):\n",
    "                raise ExamException(\"Window size must be a positive number.\")\n",
    "\n",
    "            this.window_size = window_size\n",
    "        else:\n",
    "            raise ExamException(\"The provided window size must be of a numeric type (int or float)\")\n",
    "\n",
    "    def compute(this, data):\n",
    "\n",
    "        if (isinstance(data,list)):\n",
    "            n = len(data)\n",
    "            n_iter = n - this.window_size + 1\n",
    "\n",
    "            if (n==0):\n",
    "                raise ExamException(\"The provided data list is empty.\")\n",
    "            elif (n < this.window_size):\n",
    "                raise ExamException(\"The window size is bigger than the provided data list.\")\n",
    "\n",
    "\n",
    "            try:\n",
    "                result = [ sum(data[i:(i+this.window_size)])/this.window_size for i in range(n_iter)  ] \n",
    "            except TypeError:\n",
    "                raise ExamException(\"The provided list of data contains non-numeric values.\")\n",
    "\n",
    "\n",
    "\n",
    "            return result\n",
    "        else:\n",
    "            raise ExamException(\"Input data is not a list.\")"
   ]
  },
  {
   "cell_type": "code",
   "execution_count": 53,
   "metadata": {},
   "outputs": [
    {
     "name": "stdout",
     "output_type": "stream",
     "text": [
      "[12.4]\n"
     ]
    }
   ],
   "source": [
    "moving_average = MovingAverage(5)\n",
    "result = moving_average.compute([2,4,8,16,32])\n",
    "\n",
    "print(result)"
   ]
  }
 ],
 "metadata": {
  "kernelspec": {
   "display_name": "Python 3.7.6 ('base')",
   "language": "python",
   "name": "python3"
  },
  "language_info": {
   "codemirror_mode": {
    "name": "ipython",
    "version": 3
   },
   "file_extension": ".py",
   "mimetype": "text/x-python",
   "name": "python",
   "nbconvert_exporter": "python",
   "pygments_lexer": "ipython3",
   "version": "3.7.6"
  },
  "orig_nbformat": 4,
  "vscode": {
   "interpreter": {
    "hash": "7dda0e2a960a99f1a5dce5751941cd40f6203f3e793bcbb9f5ee38f4b60be01e"
   }
  }
 },
 "nbformat": 4,
 "nbformat_minor": 2
}
